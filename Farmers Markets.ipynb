{
 "cells": [
  {
   "cell_type": "code",
   "execution_count": 6,
   "metadata": {},
   "outputs": [],
   "source": [
    "import pandas as pd\n",
    "import numpy as np\n",
    "%matplotlib inline\n",
    "import matplotlib.pyplot as plt"
   ]
  },
  {
   "cell_type": "code",
   "execution_count": 7,
   "metadata": {},
   "outputs": [],
   "source": [
    "Farmers_Data=pd.read_csv('Farmers Market Data.csv')"
   ]
  },
  {
   "cell_type": "code",
   "execution_count": 14,
   "metadata": {},
   "outputs": [
    {
     "data": {
      "text/plain": [
       "39"
      ]
     },
     "execution_count": 14,
     "metadata": {},
     "output_type": "execute_result"
    }
   ],
   "source": [
    "len(Farmers_Data['zip'].value_counts())"
   ]
  },
  {
   "cell_type": "markdown",
   "metadata": {},
   "source": [
    "They are 39 unique zip codes in this dataset"
   ]
  },
  {
   "cell_type": "code",
   "execution_count": 17,
   "metadata": {},
   "outputs": [
    {
     "data": {
      "text/plain": [
       "15222    3\n",
       "15206    3\n",
       "15136    2\n",
       "15108    2\n",
       "15228    2\n",
       "15237    2\n",
       "15026    2\n",
       "15104    2\n",
       "15025    2\n",
       "15037    2\n",
       "15044    2\n",
       "15213    2\n",
       "15065    2\n",
       "15210    1\n",
       "15201    1\n",
       "15143    1\n",
       "15236    1\n",
       "15235    1\n",
       "15057    1\n",
       "15212    1\n",
       "15208    1\n",
       "15146    1\n",
       "15084    1\n",
       "15215    1\n",
       "15239    1\n",
       "15071    1\n",
       "15068    1\n",
       "15220    1\n",
       "15110    1\n",
       "15209    1\n",
       "15238    1\n",
       "15221    1\n",
       "15216    1\n",
       "15102    1\n",
       "15223    1\n",
       "15090    1\n",
       "15224    1\n",
       "15122    1\n",
       "15101    1\n",
       "Name: zip, dtype: int64"
      ]
     },
     "execution_count": 17,
     "metadata": {},
     "output_type": "execute_result"
    }
   ],
   "source": [
    "Farmers_Data['zip'].value_counts()"
   ]
  },
  {
   "cell_type": "code",
   "execution_count": 16,
   "metadata": {},
   "outputs": [
    {
     "data": {
      "text/plain": [
       "<matplotlib.axes._subplots.AxesSubplot at 0x7f78e610b160>"
      ]
     },
     "execution_count": 16,
     "metadata": {},
     "output_type": "execute_result"
    },
    {
     "data": {
      "image/png": "[encoded data removed]",
      "text/plain": [
       "<Figure size 432x288 with 1 Axes>"
      ]
     },
     "metadata": {
      "needs_background": "light"
     },
     "output_type": "display_data"
    }
   ],
   "source": [
    "Farmers_Data['zip'].value_counts().plot(kind='bar')"
   ]
  },
  {
   "cell_type": "markdown",
   "metadata": {},
   "source": [
    "Bar graph of number of farmers markets in each zip code"
   ]
  },
  {
   "cell_type": "markdown",
   "metadata": {},
   "source": [
    "## After analyzing the following dataset, it can be concluded that based on the metric of healthiest neighborhood measured by the number of farmers' markets that Troy Hill and Larimer are the healthiest neighborhoods in Allegheny County."
   ]
  },
  {
   "cell_type": "code",
   "execution_count": null,
   "metadata": {},
   "outputs": [],
   "source": []
  }
 ],
 "metadata": {
  "kernelspec": {
   "display_name": "Python 3",
   "language": "python",
   "name": "python3"
  },
  "language_info": {
   "codemirror_mode": {
    "name": "ipython",
    "version": 3
   },
   "file_extension": ".py",
   "mimetype": "text/x-python",
   "name": "python",
   "nbconvert_exporter": "python",
   "pygments_lexer": "ipython3",
   "version": "3.8.3"
  }
 },
 "nbformat": 4,
 "nbformat_minor": 4
}
